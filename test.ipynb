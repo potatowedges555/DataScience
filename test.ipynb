{
 "cells": [
  {
   "cell_type": "markdown",
   "metadata": {},
   "source": [
    "# D1：NumPy陣列定義與屬性"
   ]
  },
  {
   "cell_type": "code",
   "execution_count": 2,
   "metadata": {},
   "outputs": [
    {
     "name": "stdout",
     "output_type": "stream",
     "text": [
      "[[ 0  1  2  3  4]\n",
      " [ 5  6  7  8  9]\n",
      " [10 11 12 13 14]]\n",
      "<class 'numpy.ndarray'>\n"
     ]
    }
   ],
   "source": [
    "import numpy as np\n",
    "a = np.arange(15).reshape(3, 5)\n",
    "print(a)\n",
    "# array([[ 0,  1,  2,  3,  4],\n",
    "#        [ 5,  6,  7,  8,  9],\n",
    "#        [10, 11, 12, 13, 14]])\n",
    "\n",
    "print(type(a)) # <type 'numpy.ndarray'>"
   ]
  },
  {
   "cell_type": "code",
   "execution_count": 3,
   "metadata": {},
   "outputs": [
    {
     "name": "stdout",
     "output_type": "stream",
     "text": [
      "2\n",
      "(3, 5)\n",
      "15\n",
      "int32\n",
      "4\n",
      "<memory at 0x0000020382455908>\n"
     ]
    }
   ],
   "source": [
    "print(a.ndim) # 2\n",
    "print(a.shape) # (3,5)\n",
    "print(a.size) # 15\n",
    "print(a.dtype) # int32\n",
    "print(a.itemsize) # 4\n",
    "print(a.data) # <memory at 0x00000296AB488828> "
   ]
  },
  {
   "cell_type": "code",
   "execution_count": 4,
   "metadata": {},
   "outputs": [
    {
     "data": {
      "text/plain": [
       "[array([0, 1, 2, 3, 4]), array([5, 6, 7, 8, 9]), array([10, 11, 12, 13, 14])]"
      ]
     },
     "execution_count": 4,
     "metadata": {},
     "output_type": "execute_result"
    }
   ],
   "source": [
    "list(a)\n",
    "# [array([0, 1, 2, 3, 4]), array([5, 6, 7, 8, 9]), array([10, 11, 12, 13, 14])]"
   ]
  },
  {
   "cell_type": "code",
   "execution_count": 5,
   "metadata": {},
   "outputs": [
    {
     "data": {
      "text/plain": [
       "[[0, 1, 2, 3, 4], [5, 6, 7, 8, 9], [10, 11, 12, 13, 14]]"
      ]
     },
     "execution_count": 5,
     "metadata": {},
     "output_type": "execute_result"
    }
   ],
   "source": [
    "a.tolist()\n",
    "# [[0, 1, 2, 3, 4], [5, 6, 7, 8, 9], [10, 11, 12, 13, 14]]"
   ]
  },
  {
   "cell_type": "code",
   "execution_count": null,
   "metadata": {},
   "outputs": [],
   "source": []
  },
  {
   "cell_type": "markdown",
   "metadata": {},
   "source": [
    "# D2：NumPy陣列資料型態"
   ]
  },
  {
   "cell_type": "code",
   "execution_count": 7,
   "metadata": {},
   "outputs": [
    {
     "name": "stdout",
     "output_type": "stream",
     "text": [
      "True\n",
      "False\n",
      "True\n"
     ]
    }
   ],
   "source": [
    "print(a.dtype == 'int32') # True\n",
    "print(a.dtype is 'int32') # False\n",
    "print(a.dtype is np.dtype('int32')) # True"
   ]
  },
  {
   "cell_type": "code",
   "execution_count": 8,
   "metadata": {},
   "outputs": [
    {
     "name": "stdout",
     "output_type": "stream",
     "text": [
      "True\n",
      "True\n",
      "True\n"
     ]
    }
   ],
   "source": [
    "print(a.dtype == 'int') \n",
    "print(a.dtype == np.int) \n",
    "print(a.dtype == np.dtype('int')) "
   ]
  },
  {
   "cell_type": "code",
   "execution_count": null,
   "metadata": {},
   "outputs": [],
   "source": []
  },
  {
   "cell_type": "markdown",
   "metadata": {},
   "source": [
    "# D3：NumPy陣列的初始化"
   ]
  },
  {
   "cell_type": "code",
   "execution_count": 10,
   "metadata": {},
   "outputs": [
    {
     "name": "stdout",
     "output_type": "stream",
     "text": [
      "[10 15 20 25]\n",
      "[0. 1. 2.]\n",
      "[  1.  10. 100.]\n"
     ]
    }
   ],
   "source": [
    "print(np.arange( 10, 30, 5 ))\n",
    "# array([10, 15, 20, 25])\n",
    "print(np.linspace( 0, 2, 3 ))\n",
    "# array([0. 1. 2.])\n",
    "print(np.logspace( 0, 2, 3 ))\n",
    "# array([1. 10. 100.])"
   ]
  },
  {
   "cell_type": "code",
   "execution_count": 19,
   "metadata": {},
   "outputs": [
    {
     "name": "stdout",
     "output_type": "stream",
     "text": [
      "[[ 1.2361904   1.15169374]\n",
      " [ 0.08386839 -1.21398297]\n",
      " [ 0.38800389  2.1422208 ]]\n",
      "[[0.34783311 0.07435547]\n",
      " [0.38373747 0.57392032]\n",
      " [0.39060422 0.59626724]]\n",
      "[[3 6]\n",
      " [2 8]\n",
      " [3 1]]\n"
     ]
    }
   ],
   "source": [
    "from numpy.random import default_rng\n",
    "rng = default_rng()\n",
    "\n",
    "normal = rng.standard_normal((3,2)) # 3*2 array，元素值取3*2次符合Normal(mu=0,sigma=1)的值\n",
    "random = rng.random((3,2)) # 3*2 array，元素值取3*2次[0,1)中的float值(均勻)\n",
    "integers = rng.integers(0, 10, size=(3,2)) # 3*2 array，元素值取3*2次[0,10)中的值\n",
    "\n",
    "print(normal)\n",
    "print(random)\n",
    "print(integers)"
   ]
  },
  {
   "cell_type": "code",
   "execution_count": 23,
   "metadata": {},
   "outputs": [
    {
     "data": {
      "text/plain": [
       "array([('', 0, 0, ''), ('', 0, 0, ''), ('', 0, 0, '')],\n",
       "      dtype=[('Name', '<U5'), ('num1', '<i4'), ('num2', '<i4'), ('True', '<U3')])"
      ]
     },
     "execution_count": 23,
     "metadata": {},
     "output_type": "execute_result"
    }
   ],
   "source": [
    "dt = np.dtype({'names':('Name', 'num1', 'num2', 'True'), 'formats':((np.str_, 5), np.int32, int, 'U3')})\n",
    "c = np.zeros(3, dtype=dt)\n",
    "c"
   ]
  },
  {
   "cell_type": "code",
   "execution_count": 24,
   "metadata": {},
   "outputs": [
    {
     "name": "stdout",
     "output_type": "stream",
     "text": [
      "[('Chloe', 11, 14, 'Y') ('Charl', 12, 15, 'Y') ('Clara', 13, 16, 'N')]\n"
     ]
    }
   ],
   "source": [
    "name = ['Chloe', 'Charlotte', 'Clara']\n",
    "num_1 = [11, 12, 13]\n",
    "num_2 = [14, 15, 16]\n",
    "check = ['Y', 'Y', 'N']\n",
    "\n",
    "c['Name'] = name\n",
    "c['num1'] = num_1\n",
    "c['num2'] = num_2\n",
    "c['True'] = check\n",
    "print(c)"
   ]
  },
  {
   "cell_type": "code",
   "execution_count": 25,
   "metadata": {},
   "outputs": [
    {
     "data": {
      "text/plain": [
       "rec.array([('Chloe', 11, 14, 'Y'), ('Charl', 12, 15, 'Y'),\n",
       "           ('Clara', 13, 16, 'N')],\n",
       "          dtype=[('Name', '<U5'), ('num1', '<i4'), ('num2', '<i4'), ('True', '<U3')])"
      ]
     },
     "execution_count": 25,
     "metadata": {},
     "output_type": "execute_result"
    }
   ],
   "source": [
    "c_rec = c.view(np.recarray)\n",
    "c_rec"
   ]
  },
  {
   "cell_type": "code",
   "execution_count": 26,
   "metadata": {},
   "outputs": [
    {
     "data": {
      "text/plain": [
       "array(['Chloe', 'Charl', 'Clara'], dtype='<U5')"
      ]
     },
     "execution_count": 26,
     "metadata": {},
     "output_type": "execute_result"
    }
   ],
   "source": [
    "c_rec.Name"
   ]
  },
  {
   "cell_type": "code",
   "execution_count": null,
   "metadata": {},
   "outputs": [],
   "source": []
  },
  {
   "cell_type": "markdown",
   "metadata": {},
   "source": [
    "# D4：NumPy陣列的算數運算"
   ]
  },
  {
   "cell_type": "code",
   "execution_count": 2,
   "metadata": {},
   "outputs": [
    {
     "name": "stdout",
     "output_type": "stream",
     "text": [
      "[[1. 3.]\n",
      " [2. 4.]]\n",
      "[[1. 2.]\n",
      " [3. 4.]]\n",
      "[[-2.   1. ]\n",
      " [ 1.5 -0.5]]\n",
      "5.0\n",
      "[[-3.]\n",
      " [ 4.]]\n"
     ]
    }
   ],
   "source": [
    "import numpy as np\n",
    "\n",
    "a = np.array([[1.0, 2.0], [3.0, 4.0]])\n",
    "# [[1. 2.]\n",
    "#  [3. 4.]]\n",
    "y = np.array([[5.], [7.]])\n",
    "# [[5.]]\n",
    "#  [7.]]\n",
    "\n",
    "print(a.transpose()) # 非永久改變a\n",
    "# array([[1., 3.],\n",
    "#        [2., 4.]])\n",
    "print(np.linalg.inv(a)) # inverse of a\n",
    "# array([[-2. ,  1. ],\n",
    "#        [ 1.5, -0.5]])\n",
    "print(np.trace(a))\n",
    "# 2.0\n",
    "print(np.linalg.solve(a, y))  # ax = y 的解\n",
    "# array([[-3.],\n",
    "#        [ 4.]])"
   ]
  },
  {
   "cell_type": "code",
   "execution_count": 3,
   "metadata": {},
   "outputs": [
    {
     "name": "stdout",
     "output_type": "stream",
     "text": [
      "[[1.00000000e+00 1.11022302e-16]\n",
      " [0.00000000e+00 1.00000000e+00]]\n",
      "[[1. 0.]\n",
      " [0. 1.]]\n",
      "[[0 0]\n",
      " [0 1]]\n"
     ]
    }
   ],
   "source": [
    "a = np.array([[1.0, 2.0], [3.0, 4.0]])\n",
    "# [[1. 2.]\n",
    "#  [3. 4.]] \n",
    "\n",
    "a_inv = np.linalg.inv(a)\n",
    "# array([[-2.  ,  1. ],\n",
    "#   [ 1.5, -0.5]])\n",
    "\n",
    "I = np.dot(a,a_inv)\n",
    "\n",
    "print(I)\n",
    "# [[1.0000000e+00 0.0000000e+00]\n",
    "#  [8.8817842e-16 1.0000000e+00]]\n",
    "\n",
    "print(np.around(I))\n",
    "#[[1. 0.]\n",
    "# [0. 1.]]\n",
    "print(I.astype(np.int64))\n",
    "#[[1 0]\n",
    "# [0 0]]"
   ]
  },
  {
   "cell_type": "code",
   "execution_count": null,
   "metadata": {},
   "outputs": [],
   "source": []
  },
  {
   "cell_type": "markdown",
   "metadata": {},
   "source": [
    "# D5：NumPy陣列的邏輯運算"
   ]
  },
  {
   "cell_type": "code",
   "execution_count": 5,
   "metadata": {},
   "outputs": [
    {
     "name": "stdout",
     "output_type": "stream",
     "text": [
      "[ True  True  True  True]\n",
      "[False False False False]\n",
      "[False False False False]\n",
      "[ True  True  True  True]\n",
      "[ True False False False]\n",
      "[ True  True  True False]\n"
     ]
    }
   ],
   "source": [
    "import numpy as np\n",
    "a = np.array( [20,30,40,50] )\n",
    "b = np.arange( 4 )\n",
    "# 比較運算\n",
    "print(a > b) # [ True  True  True  True]\n",
    "print(a < b) # [False False False False]\n",
    "print(a == b) # [False False False False]\n",
    "print(a != b) # [ True  True  True  True]\n",
    "\n",
    "a = np.array( [True, True, False, False] )\n",
    "b = np.array( [True, False, True, False]  )\n",
    "# 邏輯運算\n",
    "#print(a and b) # ValueError\n",
    "\n",
    "# 位元運算\n",
    "print(a & b) # [ True False False False]\n",
    "print(a | b) # [ True  True  True False]"
   ]
  },
  {
   "cell_type": "code",
   "execution_count": 6,
   "metadata": {},
   "outputs": [
    {
     "name": "stdout",
     "output_type": "stream",
     "text": [
      "[10 20 30 40]\n",
      "[10 30]\n",
      "[]\n"
     ]
    }
   ],
   "source": [
    "import numpy as np\n",
    "\n",
    "a = np.array( [10, 20, 30, 40] )\n",
    "\n",
    "print(a[ [True, True, True, True] ])\n",
    "# [10 20 30 40]\n",
    "print(a[ [True, False, True, False] ])\n",
    "# [10 30]\n",
    "print(a[ [False, False, False, False] ])\n",
    "# []"
   ]
  },
  {
   "cell_type": "code",
   "execution_count": 10,
   "metadata": {},
   "outputs": [
    {
     "name": "stdout",
     "output_type": "stream",
     "text": [
      "[False False  True  True]\n",
      "[30 40]\n",
      "[30 40]\n",
      "[30, 40]\n"
     ]
    }
   ],
   "source": [
    "import numpy as np\n",
    "\n",
    "a = np.array( [10, 20, 30, 40] )\n",
    "print(a > 20) # 單純印出bool值\n",
    "# [False False  True  True]\n",
    "print(a[ [False, False, True, True] ]) # 將bool值與a一一結合，只印出被定義為True的element\n",
    "# [30 40] \n",
    "print(a[ a > 20 ]) # 結合bool值，只印True的element\n",
    "# [30 40] \n",
    "\n",
    "# python容器做法\n",
    "b = []\n",
    "for i in a:\n",
    "  if i > 20:\n",
    "    b.append(i)\n",
    "print(b) # [30, 40]"
   ]
  },
  {
   "cell_type": "code",
   "execution_count": 11,
   "metadata": {},
   "outputs": [
    {
     "name": "stdout",
     "output_type": "stream",
     "text": [
      "True\n",
      "True\n",
      "False\n",
      "True\n",
      "False\n",
      "False\n"
     ]
    }
   ],
   "source": [
    "import numpy as np\n",
    "\n",
    "print(np.any([True, True, True])) # True\n",
    "print(np.any([True, False, False])) # True\n",
    "print(np.any([False, False, False])) # False\n",
    "\n",
    "print(np.all([True, True, True])) # True\n",
    "print(np.all([True, False, False])) # False\n",
    "print(np.all([False, False, False])) # False"
   ]
  },
  {
   "cell_type": "code",
   "execution_count": null,
   "metadata": {},
   "outputs": [],
   "source": []
  },
  {
   "cell_type": "markdown",
   "metadata": {},
   "source": [
    "# D6：NumPy中常見的陣列方法與函式"
   ]
  },
  {
   "cell_type": "code",
   "execution_count": 19,
   "metadata": {},
   "outputs": [
    {
     "name": "stdout",
     "output_type": "stream",
     "text": [
      "2\n",
      "[0 5 2 5]\n",
      "[0 5 2 4]\n"
     ]
    }
   ],
   "source": [
    "import numpy as np \n",
    "\n",
    "print(np.searchsorted([1,2,3,4,5], 3))# 2\n",
    "print(np.searchsorted(\n",
    "    [1, 2, 5, 4, 3],\n",
    "    [-10, 10, 3, 5]\n",
    "))# [0, 5, 2, 5]\n",
    "print(np.searchsorted(\n",
    "    [1, 2, 3, 4, 5],\n",
    "    [-10, 10, 3, 5]\n",
    "))# [0, 5, 2, 4]"
   ]
  },
  {
   "cell_type": "code",
   "execution_count": 26,
   "metadata": {},
   "outputs": [
    {
     "name": "stdout",
     "output_type": "stream",
     "text": [
      "[-1  1  1  1  1  1  1  1  1  1]\n",
      "[-1 -1 -1 -1 -1 -1  1  1  1  1]\n",
      "[[1 8]\n",
      " [3 4]]\n",
      "(array([2, 3, 4], dtype=int64),)\n",
      "[ 6  8 10]\n",
      "(array([0, 1], dtype=int64), array([1, 0], dtype=int64))\n"
     ]
    }
   ],
   "source": [
    "a = np.arange(10)\n",
    "print(np.where(a, 1, -1)) # [-1  1  1  1  1  1  1  1  1  1]\n",
    "print(np.where(a > 5, 1, -1)) # [-1 -1 -1 -1 -1 -1  1  1  1  1]\n",
    "print(np.where([[True,False], [True,True]],    # 第一個True對應x,y的1和9，因為要True，所以選1，其他以此類推\n",
    "\t\t\t [[1,2], [3,4]],\n",
    "             [[9,8], [7,6]]))\n",
    "# [[1, 8],\n",
    "#  [3, 4]]\n",
    "\n",
    "a = np.array([2, 4, 6, 8, 10])\n",
    "print(np.where(a>5)) # (array([2, 3, 4], dtype=int64),)\n",
    "print(a[np.where(a>5)]) # [6 8 10]\n",
    "\n",
    "print(np.where([[0, 1], [1, 0]]))  # 會return True的是value=1的element，座標分別是(0,1),(1,0)\n",
    "# (array([0, 1], dtype=int64), array([1, 0], dtype=int64))"
   ]
  },
  {
   "cell_type": "code",
   "execution_count": 41,
   "metadata": {},
   "outputs": [
    {
     "name": "stdout",
     "output_type": "stream",
     "text": [
      "[[0 1]\n",
      " [2 3]\n",
      " [4 5]]\n",
      "[[0 1]\n",
      " [2 3]\n",
      " [4 5]]\n",
      "[100   1   2   3   4   5]\n",
      "None\n",
      "[[0 1]\n",
      " [2 3]\n",
      " [4 5]]\n",
      "[[0]\n",
      " [1]\n",
      " [2]]\n",
      "[[0 1 2]\n",
      " [0 0 0]\n",
      " [0 0 0]]\n"
     ]
    }
   ],
   "source": [
    "import numpy as np \n",
    "\n",
    "a = np.arange(6) # [0, 1, 2, 3, 4, 5]\n",
    "print(a.reshape(3, -1)) # 新形狀可模糊指定為-1，numpy會自動計算\n",
    "print(a.reshape(3, 2))\n",
    "# [[0 1]\n",
    "#  [2 3]\n",
    "#  [4 5]]\n",
    "a.reshape(3,2)[0,0] = 100\n",
    "print(a) # [100, 1, 2, 3, 4, 5] 本身的值也被改變了\n",
    "\n",
    "a = np.arange(6) # [0, 1, 2, 3, 4, 5]\n",
    "print(a.resize((3, 2))) # None\n",
    "print(a)\n",
    "# [[0 1]\n",
    "#  [2 3]\n",
    "#  [4 5]]\n",
    "a.resize(3, 1)\n",
    "print(a)\n",
    "# [[0]\n",
    "# [1]\n",
    "# [2]]\n",
    "a.resize(3, 3)\n",
    "print(a)\n",
    "# [[0 1 2]\n",
    "# [0 0 0]\n",
    "# [0 0 0]]"
   ]
  },
  {
   "cell_type": "code",
   "execution_count": 35,
   "metadata": {},
   "outputs": [
    {
     "name": "stdout",
     "output_type": "stream",
     "text": [
      "[0 1 2 3 4 5]\n",
      "[  0 100   2   3   4   5]\n",
      "<numpy.flatiter object at 0x0000022788329B50>\n",
      "2\n"
     ]
    }
   ],
   "source": [
    "a = np.arange(6).reshape((3, 2))\n",
    "print(a.ravel()) # [0 1 2 3 4 5]\n",
    "a.ravel()[1] = 100\n",
    "print(a.flatten()) # [  0 100   2   3   4   5] a被改動了\n",
    "print(a.flat) # <numpy.flatiter object at 0x0000022788329B50>\n",
    "print(a.flat[2]) # 2"
   ]
  },
  {
   "cell_type": "code",
   "execution_count": null,
   "metadata": {},
   "outputs": [],
   "source": []
  },
  {
   "cell_type": "markdown",
   "metadata": {},
   "source": [
    "# D7：NumPy陣列的索引、切片與迭代"
   ]
  },
  {
   "cell_type": "code",
   "execution_count": 1,
   "metadata": {},
   "outputs": [
    {
     "name": "stdout",
     "output_type": "stream",
     "text": [
      "0\n",
      "1\n",
      "2\n",
      "3\n",
      "4\n",
      "5\n"
     ]
    }
   ],
   "source": [
    "import numpy as np \n",
    "\n",
    "a = np.arange(6).reshape(3, 2)\n",
    "\n",
    "for d in a.flat:\n",
    "    print(d)"
   ]
  },
  {
   "cell_type": "code",
   "execution_count": 5,
   "metadata": {},
   "outputs": [
    {
     "ename": "SyntaxError",
     "evalue": "invalid character in identifier (<ipython-input-5-786b211015c0>, line 1)",
     "output_type": "error",
     "traceback": [
      "\u001b[1;36m  File \u001b[1;32m\"<ipython-input-5-786b211015c0>\"\u001b[1;36m, line \u001b[1;32m1\u001b[0m\n\u001b[1;33m    ls = [[[1, 2, 3, 4], [5, 6, 7, 8], [9, 10, 11, 12]],\u001b[0m\n\u001b[1;37m               ^\u001b[0m\n\u001b[1;31mSyntaxError\u001b[0m\u001b[1;31m:\u001b[0m invalid character in identifier\n"
     ]
    }
   ],
   "source": [
    "ls = [[[1, 2, 3, 4], [5, 6, 7, 8], [9, 10, 11, 12]], \n",
    "      [[13, 14, 15, 16], [17, 18, 19, 20], [21, 22, 23, 24]]]\n",
    "a = np.array(ls, dtype=int)\n",
    "print(a)\n",
    "print(a.strides)"
   ]
  },
  {
   "cell_type": "code",
   "execution_count": null,
   "metadata": {},
   "outputs": [],
   "source": []
  }
 ],
 "metadata": {
  "kernelspec": {
   "display_name": "Python 3",
   "language": "python",
   "name": "python3"
  },
  "language_info": {
   "codemirror_mode": {
    "name": "ipython",
    "version": 3
   },
   "file_extension": ".py",
   "mimetype": "text/x-python",
   "name": "python",
   "nbconvert_exporter": "python",
   "pygments_lexer": "ipython3",
   "version": "3.7.6"
  }
 },
 "nbformat": 4,
 "nbformat_minor": 4
}
